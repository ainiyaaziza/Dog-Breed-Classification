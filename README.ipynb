{
 "cells": [
  {
   "cell_type": "markdown",
   "id": "be1e73bc",
   "metadata": {},
   "source": [
    "## **Dog Breed Classification using TensorFlow**\n",
    "---\n",
    "\n",
    "| <img src=\"../images/Japanese%20Spitz%20dog%20breed%20description%20and%20characteristics.jpg\" width=350/> | \n",
    "|:--:| \n",
    "|Source:[Pinterest](https://www.pinterest.com.mx/pin/551409548117924718/)|\n",
    "\n",
    "### **Use Case**\n",
    "\n",
    "**Use Case Summary**\n",
    "\n",
    "**Objective Statement:**\n",
    "\n",
    "Dogs are incredible. But have you ever been sitting at a cafe, seen a dog and not known what breed it is? I have. And then someone says, \"it's an English Terrier\" and you think, how did they know that? In this project we're going to be using machine learning to help us identify different breeds of dogs.\n",
    "\n",
    "**Challenges:**\n",
    "* Large size of data\n",
    "* Multi-class image classification\n",
    "\n",
    "**Expected Outcome:**\n",
    "  \n",
    "* Able to identify different breeds of dogs\n",
    "\n",
    "### **Data Understanding**\n",
    "\n",
    "  * Data of 120 different dog breeds conssist of a collection of 10.000+ labelled images.\n",
    "  * Data Source: [Kaggle dog breed identification competition](https://www.kaggle.com/c/dog-breed-identification/overview)\n",
    "\n",
    "### **Data preparation**\n",
    "**Code Used:**\n",
    "  * Python Version: 3.7.8\n",
    "  * Packages: Pandas, Numpy, Matplotlib, TensorFlow, TensorFlowHub and Sklearn"
   ]
  },
  {
   "cell_type": "code",
   "execution_count": null,
   "id": "5c5fb8e4",
   "metadata": {},
   "outputs": [],
   "source": []
  }
 ],
 "metadata": {
  "kernelspec": {
   "display_name": "Python 3 (ipykernel)",
   "language": "python",
   "name": "python3"
  },
  "language_info": {
   "codemirror_mode": {
    "name": "ipython",
    "version": 3
   },
   "file_extension": ".py",
   "mimetype": "text/x-python",
   "name": "python",
   "nbconvert_exporter": "python",
   "pygments_lexer": "ipython3",
   "version": "3.9.7"
  }
 },
 "nbformat": 4,
 "nbformat_minor": 5
}
